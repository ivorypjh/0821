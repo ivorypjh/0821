{
 "cells": [
  {
   "cell_type": "code",
   "execution_count": 1,
   "id": "071f183b",
   "metadata": {},
   "outputs": [
    {
     "name": "stdout",
     "output_type": "stream",
     "text": [
      "C:\\Users\\USER\\lg dx python\n"
     ]
    }
   ],
   "source": [
    "import numpy as np\n",
    "import pandas as pd\n",
    "import matplotlib.pyplot as plt\n",
    "\n",
    "import os\n",
    "print(os.getcwd())\n",
    "\n",
    "import platform\n",
    "from matplotlib import font_manager, rc\n",
    "import seaborn as sns # 데이터셋을 가져오기 위해 import\n",
    "\n",
    "if platform.system() == 'Darwin':\n",
    "    rc('font', family = 'AppleGothic')\n",
    "elif platform.system() == 'Windows':\n",
    "    font_name = font_manager.FontProperties(fname = 'c:/Windows/Fonts/malgun.ttf').get_name()\n",
    "    rc('font', family = font_name)\n",
    "    \n",
    "# 그래프에서 음수를 사용하기 위한 설정\n",
    "plt.rcParams['axes.unicode_minus'] = False"
   ]
  },
  {
   "cell_type": "code",
   "execution_count": 37,
   "id": "9e4ad5df",
   "metadata": {},
   "outputs": [
    {
     "name": "stdout",
     "output_type": "stream",
     "text": [
      "<class 'pandas.core.frame.DataFrame'>\n",
      "RangeIndex: 20 entries, 0 to 19\n",
      "Data columns (total 6 columns):\n",
      " #   Column  Non-Null Count  Dtype \n",
      "---  ------  --------------  ----- \n",
      " 0   Date    20 non-null     object\n",
      " 1   Close   20 non-null     int64 \n",
      " 2   Start   20 non-null     int64 \n",
      " 3   High    20 non-null     int64 \n",
      " 4   Low     20 non-null     int64 \n",
      " 5   Volume  20 non-null     int64 \n",
      "dtypes: int64(5), object(1)\n",
      "memory usage: 1.1+ KB\n"
     ]
    }
   ],
   "source": [
    "# 데이터 가져오기 - stock-data.csv 파일\n",
    "DF = pd.read_csv('./data/stock-data.csv')\n",
    "#print(DF.head())\n",
    "DF.info()"
   ]
  },
  {
   "cell_type": "code",
   "execution_count": 6,
   "id": "0d7a508b",
   "metadata": {},
   "outputs": [
    {
     "name": "stdout",
     "output_type": "stream",
     "text": [
      "<class 'pandas.core.frame.DataFrame'>\n",
      "RangeIndex: 20 entries, 0 to 19\n",
      "Data columns (total 7 columns):\n",
      " #   Column   Non-Null Count  Dtype         \n",
      "---  ------   --------------  -----         \n",
      " 0   Date     20 non-null     object        \n",
      " 1   Close    20 non-null     int64         \n",
      " 2   Start    20 non-null     int64         \n",
      " 3   High     20 non-null     int64         \n",
      " 4   Low      20 non-null     int64         \n",
      " 5   Volume   20 non-null     int64         \n",
      " 6   newDate  20 non-null     datetime64[ns]\n",
      "dtypes: datetime64[ns](1), int64(5), object(1)\n",
      "memory usage: 1.2+ KB\n"
     ]
    }
   ],
   "source": [
    "# Date 컬럼을 날짜 자료형으로 변경해서 새로운 필드로 저장하기\n",
    "# Date 컬럼의 형식이 날짜 형식과 일치하기에 별다른 처리 없이 바로 변환 가능\n",
    "# pandas 의 to_datetime 함수를 사용\n",
    "# 자료형은 datetime64\n",
    "DF['newDate'] = pd.to_datetime(DF['Date'])\n",
    "DF.info()"
   ]
  },
  {
   "cell_type": "code",
   "execution_count": 10,
   "id": "bbd4ed87",
   "metadata": {},
   "outputs": [
    {
     "name": "stdout",
     "output_type": "stream",
     "text": [
      "            Close  Start   High    Low  Volume\n",
      "newDate                                       \n",
      "2018-07-02  10100  10850  10900  10000  137977\n",
      "2018-06-29  10700  10550  10900   9990  170253\n",
      "2018-06-28  10400  10900  10950  10150  155769\n",
      "2018-06-27  10900  10800  11050  10500  133548\n",
      "2018-06-26  10800  10900  11000  10700   63039\n",
      "<class 'pandas.core.frame.DataFrame'>\n",
      "DatetimeIndex: 20 entries, 2018-07-02 to 2018-06-01\n",
      "Data columns (total 5 columns):\n",
      " #   Column  Non-Null Count  Dtype\n",
      "---  ------  --------------  -----\n",
      " 0   Close   20 non-null     int64\n",
      " 1   Start   20 non-null     int64\n",
      " 2   High    20 non-null     int64\n",
      " 3   Low     20 non-null     int64\n",
      " 4   Volume  20 non-null     int64\n",
      "dtypes: int64(5)\n",
      "memory usage: 960.0 bytes\n"
     ]
    }
   ],
   "source": [
    "# 새로 생성한 날짜 컬럼을 인덱스로 지정하기\n",
    "DF.set_index('newDate', inplace = True)\n",
    "# 기존의 Date 컬럼 삭제\n",
    "DF.drop('Date', axis = 1, inplace = True)\n",
    "print(DF.head())\n",
    "DF.info()"
   ]
  },
  {
   "cell_type": "code",
   "execution_count": 50,
   "id": "cf248e1e",
   "metadata": {},
   "outputs": [
    {
     "name": "stdout",
     "output_type": "stream",
     "text": [
      "[Timestamp('2023-02-01 00:00:00') '28-03-2022 11:15 AT']\n",
      "<class 'pandas.core.frame.DataFrame'>\n",
      "RangeIndex: 2 entries, 0 to 1\n",
      "Data columns (total 1 columns):\n",
      " #   Column  Non-Null Count  Dtype \n",
      "---  ------  --------------  ----- \n",
      " 0   0       2 non-null      object\n",
      "dtypes: object(1)\n",
      "memory usage: 144.0+ bytes\n",
      "None\n"
     ]
    }
   ],
   "source": [
    "# 날짜 형식의 샘플 데이터 생성\n",
    "# 첫번째는 변경이 가능하지만 두번째 날짜는 변경 불가능한 데이터\n",
    "sample_date = np.array(['01-02-2023 12:00 AM', '28-03-2022 11:15 AT'])\n",
    "\n",
    "# 날짜 포맷을 지정해서 형 변환\n",
    "# 두번째 날짜의 AT 가 포맷과 일치하지 않아서 에러 발생\n",
    "# errors 옵션에 ingnore 를 지정하면 예외가 발생하면 문자열 그대로 저장\n",
    "# list는 2개의 데이터 자료형이 달라도 문제가 생기지 않지만\n",
    "# array 나 DataFrame으로 변환해서 사용하는 경우 문제가 생길 수 있음\n",
    "print(np.array([pd.to_datetime(date, format = '%d-%m-%Y %I:%M %p',\n",
    "                     errors = 'ignore') for date in sample_date]))\n",
    "# 결과 - [Timestamp('2023-02-01 00:00:00') '28-03-2022 11:15 AT']\n",
    "# 둘의 자료형이 달라질 수 있기에 ignore 는 권장하지 않는 방식\n",
    "\n",
    "# DataFrame 의 경우 자료형이 동일해야 하므로 \n",
    "# 자료형이 서로 다른 datatime과 문자열이 obeject 타입으로 저장됨\n",
    "# 형 변환을 한 의미가 없어짐\n",
    "print(pd.DataFrame([pd.to_datetime(date, format = '%d-%m-%Y %I:%M %p',\n",
    "                     errors = 'ignore') for date in sample_date]).info())\n"
   ]
  },
  {
   "cell_type": "code",
   "execution_count": 21,
   "id": "a42dbf7a",
   "metadata": {},
   "outputs": [
    {
     "name": "stdout",
     "output_type": "stream",
     "text": [
      "<class 'pandas.core.frame.DataFrame'>\n",
      "RangeIndex: 2 entries, 0 to 1\n",
      "Data columns (total 1 columns):\n",
      " #   Column  Non-Null Count  Dtype         \n",
      "---  ------  --------------  -----         \n",
      " 0   0       1 non-null      datetime64[ns]\n",
      "dtypes: datetime64[ns](1)\n",
      "memory usage: 144.0 bytes\n",
      "None\n"
     ]
    }
   ],
   "source": [
    "# errors 옵션에 coerce 를 사용\n",
    "# 자료형 변환이 되지 않는 경우 NaT 로 설정\n",
    "# 즉, 자료형이 일치하지 않는 경우 결측치로 처리\n",
    "# object 자료형이 아니라 의도한대로 datetime 형식으로 저장됨\n",
    "print(pd.DataFrame([pd.to_datetime(date, format = '%d-%m-%Y %I:%M %p',\n",
    "                     errors = 'coerce') for date in sample_date]).info())"
   ]
  },
  {
   "cell_type": "code",
   "execution_count": 22,
   "id": "6d42265a",
   "metadata": {},
   "outputs": [
    {
     "ename": "ValueError",
     "evalue": "time data '28-03-2022 11:15 AT' does not match format '%d-%m-%Y %I:%M %p' (match)",
     "output_type": "error",
     "traceback": [
      "\u001b[1;31m---------------------------------------------------------------------------\u001b[0m",
      "\u001b[1;31mValueError\u001b[0m                                Traceback (most recent call last)",
      "Cell \u001b[1;32mIn[22], line 4\u001b[0m\n\u001b[0;32m      1\u001b[0m \u001b[38;5;66;03m# errors 옵션에 raise 를 사용\u001b[39;00m\n\u001b[0;32m      2\u001b[0m \u001b[38;5;66;03m# default 옵션\u001b[39;00m\n\u001b[0;32m      3\u001b[0m \u001b[38;5;66;03m# 에러(예외)를 발생시킴\u001b[39;00m\n\u001b[1;32m----> 4\u001b[0m \u001b[38;5;28mprint\u001b[39m(pd\u001b[38;5;241m.\u001b[39mDataFrame([pd\u001b[38;5;241m.\u001b[39mto_datetime(date, \u001b[38;5;28mformat\u001b[39m \u001b[38;5;241m=\u001b[39m \u001b[38;5;124m'\u001b[39m\u001b[38;5;132;01m%d\u001b[39;00m\u001b[38;5;124m-\u001b[39m\u001b[38;5;124m%\u001b[39m\u001b[38;5;124mm-\u001b[39m\u001b[38;5;124m%\u001b[39m\u001b[38;5;124mY \u001b[39m\u001b[38;5;124m%\u001b[39m\u001b[38;5;124mI:\u001b[39m\u001b[38;5;124m%\u001b[39m\u001b[38;5;124mM \u001b[39m\u001b[38;5;124m%\u001b[39m\u001b[38;5;124mp\u001b[39m\u001b[38;5;124m'\u001b[39m,\n\u001b[0;32m      5\u001b[0m                      errors \u001b[38;5;241m=\u001b[39m \u001b[38;5;124m'\u001b[39m\u001b[38;5;124mraise\u001b[39m\u001b[38;5;124m'\u001b[39m) \u001b[38;5;28;01mfor\u001b[39;00m date \u001b[38;5;129;01min\u001b[39;00m sample_date])\u001b[38;5;241m.\u001b[39minfo())\n",
      "Cell \u001b[1;32mIn[22], line 4\u001b[0m, in \u001b[0;36m<listcomp>\u001b[1;34m(.0)\u001b[0m\n\u001b[0;32m      1\u001b[0m \u001b[38;5;66;03m# errors 옵션에 raise 를 사용\u001b[39;00m\n\u001b[0;32m      2\u001b[0m \u001b[38;5;66;03m# default 옵션\u001b[39;00m\n\u001b[0;32m      3\u001b[0m \u001b[38;5;66;03m# 에러(예외)를 발생시킴\u001b[39;00m\n\u001b[1;32m----> 4\u001b[0m \u001b[38;5;28mprint\u001b[39m(pd\u001b[38;5;241m.\u001b[39mDataFrame([\u001b[43mpd\u001b[49m\u001b[38;5;241;43m.\u001b[39;49m\u001b[43mto_datetime\u001b[49m\u001b[43m(\u001b[49m\u001b[43mdate\u001b[49m\u001b[43m,\u001b[49m\u001b[43m \u001b[49m\u001b[38;5;28;43mformat\u001b[39;49m\u001b[43m \u001b[49m\u001b[38;5;241;43m=\u001b[39;49m\u001b[43m \u001b[49m\u001b[38;5;124;43m'\u001b[39;49m\u001b[38;5;132;43;01m%d\u001b[39;49;00m\u001b[38;5;124;43m-\u001b[39;49m\u001b[38;5;124;43m%\u001b[39;49m\u001b[38;5;124;43mm-\u001b[39;49m\u001b[38;5;124;43m%\u001b[39;49m\u001b[38;5;124;43mY \u001b[39;49m\u001b[38;5;124;43m%\u001b[39;49m\u001b[38;5;124;43mI:\u001b[39;49m\u001b[38;5;124;43m%\u001b[39;49m\u001b[38;5;124;43mM \u001b[39;49m\u001b[38;5;124;43m%\u001b[39;49m\u001b[38;5;124;43mp\u001b[39;49m\u001b[38;5;124;43m'\u001b[39;49m\u001b[43m,\u001b[49m\n\u001b[0;32m      5\u001b[0m \u001b[43m                     \u001b[49m\u001b[43merrors\u001b[49m\u001b[43m \u001b[49m\u001b[38;5;241;43m=\u001b[39;49m\u001b[43m \u001b[49m\u001b[38;5;124;43m'\u001b[39;49m\u001b[38;5;124;43mraise\u001b[39;49m\u001b[38;5;124;43m'\u001b[39;49m\u001b[43m)\u001b[49m \u001b[38;5;28;01mfor\u001b[39;00m date \u001b[38;5;129;01min\u001b[39;00m sample_date])\u001b[38;5;241m.\u001b[39minfo())\n",
      "File \u001b[1;32m~\\anaconda3\\lib\\site-packages\\pandas\\core\\tools\\datetimes.py:1102\u001b[0m, in \u001b[0;36mto_datetime\u001b[1;34m(arg, errors, dayfirst, yearfirst, utc, format, exact, unit, infer_datetime_format, origin, cache)\u001b[0m\n\u001b[0;32m   1100\u001b[0m         result \u001b[38;5;241m=\u001b[39m convert_listlike(argc, \u001b[38;5;28mformat\u001b[39m)\n\u001b[0;32m   1101\u001b[0m \u001b[38;5;28;01melse\u001b[39;00m:\n\u001b[1;32m-> 1102\u001b[0m     result \u001b[38;5;241m=\u001b[39m \u001b[43mconvert_listlike\u001b[49m\u001b[43m(\u001b[49m\u001b[43mnp\u001b[49m\u001b[38;5;241;43m.\u001b[39;49m\u001b[43marray\u001b[49m\u001b[43m(\u001b[49m\u001b[43m[\u001b[49m\u001b[43marg\u001b[49m\u001b[43m]\u001b[49m\u001b[43m)\u001b[49m\u001b[43m,\u001b[49m\u001b[43m \u001b[49m\u001b[38;5;28;43mformat\u001b[39;49m\u001b[43m)\u001b[49m[\u001b[38;5;241m0\u001b[39m]\n\u001b[0;32m   1103\u001b[0m     \u001b[38;5;28;01mif\u001b[39;00m \u001b[38;5;28misinstance\u001b[39m(arg, \u001b[38;5;28mbool\u001b[39m) \u001b[38;5;129;01mand\u001b[39;00m \u001b[38;5;28misinstance\u001b[39m(result, np\u001b[38;5;241m.\u001b[39mbool_):\n\u001b[0;32m   1104\u001b[0m         result \u001b[38;5;241m=\u001b[39m \u001b[38;5;28mbool\u001b[39m(result)  \u001b[38;5;66;03m# TODO: avoid this kludge.\u001b[39;00m\n",
      "File \u001b[1;32m~\\anaconda3\\lib\\site-packages\\pandas\\core\\tools\\datetimes.py:430\u001b[0m, in \u001b[0;36m_convert_listlike_datetimes\u001b[1;34m(arg, format, name, tz, unit, errors, infer_datetime_format, dayfirst, yearfirst, exact)\u001b[0m\n\u001b[0;32m    427\u001b[0m         \u001b[38;5;28mformat\u001b[39m \u001b[38;5;241m=\u001b[39m \u001b[38;5;28;01mNone\u001b[39;00m\n\u001b[0;32m    429\u001b[0m \u001b[38;5;28;01mif\u001b[39;00m \u001b[38;5;28mformat\u001b[39m \u001b[38;5;129;01mis\u001b[39;00m \u001b[38;5;129;01mnot\u001b[39;00m \u001b[38;5;28;01mNone\u001b[39;00m:\n\u001b[1;32m--> 430\u001b[0m     res \u001b[38;5;241m=\u001b[39m \u001b[43m_to_datetime_with_format\u001b[49m\u001b[43m(\u001b[49m\n\u001b[0;32m    431\u001b[0m \u001b[43m        \u001b[49m\u001b[43marg\u001b[49m\u001b[43m,\u001b[49m\u001b[43m \u001b[49m\u001b[43morig_arg\u001b[49m\u001b[43m,\u001b[49m\u001b[43m \u001b[49m\u001b[43mname\u001b[49m\u001b[43m,\u001b[49m\u001b[43m \u001b[49m\u001b[43mtz\u001b[49m\u001b[43m,\u001b[49m\u001b[43m \u001b[49m\u001b[38;5;28;43mformat\u001b[39;49m\u001b[43m,\u001b[49m\u001b[43m \u001b[49m\u001b[43mexact\u001b[49m\u001b[43m,\u001b[49m\u001b[43m \u001b[49m\u001b[43merrors\u001b[49m\u001b[43m,\u001b[49m\u001b[43m \u001b[49m\u001b[43minfer_datetime_format\u001b[49m\n\u001b[0;32m    432\u001b[0m \u001b[43m    \u001b[49m\u001b[43m)\u001b[49m\n\u001b[0;32m    433\u001b[0m     \u001b[38;5;28;01mif\u001b[39;00m res \u001b[38;5;129;01mis\u001b[39;00m \u001b[38;5;129;01mnot\u001b[39;00m \u001b[38;5;28;01mNone\u001b[39;00m:\n\u001b[0;32m    434\u001b[0m         \u001b[38;5;28;01mreturn\u001b[39;00m res\n",
      "File \u001b[1;32m~\\anaconda3\\lib\\site-packages\\pandas\\core\\tools\\datetimes.py:538\u001b[0m, in \u001b[0;36m_to_datetime_with_format\u001b[1;34m(arg, orig_arg, name, tz, fmt, exact, errors, infer_datetime_format)\u001b[0m\n\u001b[0;32m    535\u001b[0m         \u001b[38;5;28;01mreturn\u001b[39;00m _box_as_indexlike(result, utc\u001b[38;5;241m=\u001b[39mutc, name\u001b[38;5;241m=\u001b[39mname)\n\u001b[0;32m    537\u001b[0m \u001b[38;5;66;03m# fallback\u001b[39;00m\n\u001b[1;32m--> 538\u001b[0m res \u001b[38;5;241m=\u001b[39m \u001b[43m_array_strptime_with_fallback\u001b[49m\u001b[43m(\u001b[49m\n\u001b[0;32m    539\u001b[0m \u001b[43m    \u001b[49m\u001b[43marg\u001b[49m\u001b[43m,\u001b[49m\u001b[43m \u001b[49m\u001b[43mname\u001b[49m\u001b[43m,\u001b[49m\u001b[43m \u001b[49m\u001b[43mtz\u001b[49m\u001b[43m,\u001b[49m\u001b[43m \u001b[49m\u001b[43mfmt\u001b[49m\u001b[43m,\u001b[49m\u001b[43m \u001b[49m\u001b[43mexact\u001b[49m\u001b[43m,\u001b[49m\u001b[43m \u001b[49m\u001b[43merrors\u001b[49m\u001b[43m,\u001b[49m\u001b[43m \u001b[49m\u001b[43minfer_datetime_format\u001b[49m\n\u001b[0;32m    540\u001b[0m \u001b[43m\u001b[49m\u001b[43m)\u001b[49m\n\u001b[0;32m    541\u001b[0m \u001b[38;5;28;01mreturn\u001b[39;00m res\n",
      "File \u001b[1;32m~\\anaconda3\\lib\\site-packages\\pandas\\core\\tools\\datetimes.py:473\u001b[0m, in \u001b[0;36m_array_strptime_with_fallback\u001b[1;34m(arg, name, tz, fmt, exact, errors, infer_datetime_format)\u001b[0m\n\u001b[0;32m    470\u001b[0m utc \u001b[38;5;241m=\u001b[39m tz \u001b[38;5;241m==\u001b[39m \u001b[38;5;124m\"\u001b[39m\u001b[38;5;124mutc\u001b[39m\u001b[38;5;124m\"\u001b[39m\n\u001b[0;32m    472\u001b[0m \u001b[38;5;28;01mtry\u001b[39;00m:\n\u001b[1;32m--> 473\u001b[0m     result, timezones \u001b[38;5;241m=\u001b[39m \u001b[43marray_strptime\u001b[49m\u001b[43m(\u001b[49m\u001b[43marg\u001b[49m\u001b[43m,\u001b[49m\u001b[43m \u001b[49m\u001b[43mfmt\u001b[49m\u001b[43m,\u001b[49m\u001b[43m \u001b[49m\u001b[43mexact\u001b[49m\u001b[38;5;241;43m=\u001b[39;49m\u001b[43mexact\u001b[49m\u001b[43m,\u001b[49m\u001b[43m \u001b[49m\u001b[43merrors\u001b[49m\u001b[38;5;241;43m=\u001b[39;49m\u001b[43merrors\u001b[49m\u001b[43m)\u001b[49m\n\u001b[0;32m    474\u001b[0m \u001b[38;5;28;01mexcept\u001b[39;00m OutOfBoundsDatetime:\n\u001b[0;32m    475\u001b[0m     \u001b[38;5;28;01mif\u001b[39;00m errors \u001b[38;5;241m==\u001b[39m \u001b[38;5;124m\"\u001b[39m\u001b[38;5;124mraise\u001b[39m\u001b[38;5;124m\"\u001b[39m:\n",
      "File \u001b[1;32m~\\anaconda3\\lib\\site-packages\\pandas\\_libs\\tslibs\\strptime.pyx:150\u001b[0m, in \u001b[0;36mpandas._libs.tslibs.strptime.array_strptime\u001b[1;34m()\u001b[0m\n",
      "\u001b[1;31mValueError\u001b[0m: time data '28-03-2022 11:15 AT' does not match format '%d-%m-%Y %I:%M %p' (match)"
     ]
    }
   ],
   "source": [
    "# errors 옵션에 raise 를 사용\n",
    "# default 옵션\n",
    "# 에러(예외)를 발생시킴\n",
    "print(pd.DataFrame([pd.to_datetime(date, format = '%d-%m-%Y %I:%M %p',\n",
    "                     errors = 'raise') for date in sample_date]).info())"
   ]
  },
  {
   "cell_type": "code",
   "execution_count": 36,
   "id": "22b8b933",
   "metadata": {},
   "outputs": [
    {
     "name": "stdout",
     "output_type": "stream",
     "text": [
      "PeriodIndex(['2023-01', '2022-04', '2020-04'], dtype='period[M]')\n",
      "PeriodIndex(['2023', '2022', '2020'], dtype='period[A-DEC]')\n",
      "PeriodIndex(['2023Q1', '2022Q2', '2020Q2'], dtype='period[Q-DEC]')\n"
     ]
    }
   ],
   "source": [
    "# 샘플 날짜 데이터 생성\n",
    "sample_date = np.array(['2023-01-23', '2022-04-29', '2020-04-21'])\n",
    "\n",
    "# datetime 형식으로 변환\n",
    "pd_date = pd.to_datetime(sample_date)\n",
    "# 기간을 월단위로 변경\n",
    "# 기존 날짜 데이터에서 일을 제외하고 월까지만 출력\n",
    "pr_month = pd_date.to_period(freq = 'M')\n",
    "print(pr_month)\n",
    "\n",
    "# 기간을 연단위로 설정\n",
    "# 월 단위 이하를 제외하고 연도까지만 출력\n",
    "pr_year = pd_date.to_period(freq = 'A')\n",
    "print(pr_year)\n",
    "\n",
    "# 기간을 분기로 설정\n",
    "# 날짜의 출력 형식이 달라짐 - 2023Q1 형식\n",
    "pr_qua = pd_date.to_period(freq = 'Q')\n",
    "print(pr_qua)\n"
   ]
  },
  {
   "cell_type": "code",
   "execution_count": 43,
   "id": "45e9a3a4",
   "metadata": {},
   "outputs": [
    {
     "name": "stdout",
     "output_type": "stream",
     "text": [
      "DatetimeIndex(['2023-01-01 00:00:00+09:00', '2023-02-01 00:00:00+09:00',\n",
      "               '2023-03-01 00:00:00+09:00', '2023-04-01 00:00:00+09:00',\n",
      "               '2023-05-01 00:00:00+09:00', '2023-06-01 00:00:00+09:00',\n",
      "               '2023-07-01 00:00:00+09:00', '2023-08-01 00:00:00+09:00',\n",
      "               '2023-09-01 00:00:00+09:00', '2023-10-01 00:00:00+09:00',\n",
      "               '2023-11-01 00:00:00+09:00', '2023-12-01 00:00:00+09:00'],\n",
      "              dtype='datetime64[ns, Asia/Seoul]', freq='MS')\n"
     ]
    }
   ],
   "source": [
    "# 2023년 1월 1일부터 월 단위로 데이터를 12개 생성\n",
    "# 기준 시간대는 seoul\n",
    "month_period = pd.date_range(start = '2023-01-01', periods = 12,\n",
    "                            freq = 'MS', tz = 'Asia/Seoul')\n",
    "print(month_period)"
   ]
  },
  {
   "cell_type": "code",
   "execution_count": 47,
   "id": "69cc5e5b",
   "metadata": {},
   "outputs": [
    {
     "name": "stdout",
     "output_type": "stream",
     "text": [
      "59 days 00:00:00\n",
      "31 days 00:00:00\n",
      "28 days 00:00:00\n"
     ]
    }
   ],
   "source": [
    "print(month_period[2] - month_period[0]) # 59 days 00:00:00\n",
    "print(month_period[1] - month_period[0]) # 31\n",
    "print(month_period[2] - month_period[1]) # 28"
   ]
  },
  {
   "cell_type": "code",
   "execution_count": 53,
   "id": "987e6f7f",
   "metadata": {},
   "outputs": [
    {
     "name": "stdout",
     "output_type": "stream",
     "text": [
      "            Close  Start   High    Low  Volume\n",
      "newDate                                       \n",
      "2018-07-02  10100  10850  10900  10000  137977\n",
      "2018-06-29  10700  10550  10900   9990  170253\n",
      "2018-06-28  10400  10900  10950  10150  155769\n",
      "2018-06-27  10900  10800  11050  10500  133548\n",
      "2018-06-26  10800  10900  11000  10700   63039\n"
     ]
    }
   ],
   "source": [
    "# 데이터를 가져와서 문자열을 날짜로 변경\n",
    "DF = pd.read_csv('./data/stock-data.csv')\n",
    "DF['newDate'] = pd.to_datetime(DF['Date'])\n",
    "DF.set_index('newDate', inplace = True)\n",
    "DF.drop('Date', axis = 1, inplace = True)\n",
    "print(DF.head())"
   ]
  },
  {
   "cell_type": "code",
   "execution_count": 59,
   "id": "10150f6f",
   "metadata": {},
   "outputs": [
    {
     "name": "stdout",
     "output_type": "stream",
     "text": [
      "            Close  Start   High    Low  Volume\n",
      "newDate                                       \n",
      "2018-07-02  10100  10850  10900  10000  137977\n",
      "2018-06-29  10700  10550  10900   9990  170253\n",
      "2018-06-28  10400  10900  10950  10150  155769\n",
      "2018-06-27  10900  10800  11050  10500  133548\n",
      "2018-06-26  10800  10900  11000  10700   63039\n"
     ]
    }
   ],
   "source": [
    "# 날짜 인덱스를 사용하기 때문에 \n",
    "# 날짜의 일부분만 가지고도 인덱싱이 가능\n",
    "# 문자열은 이런 방식의 인덱싱을 할 수 없음\n",
    "\n",
    "# 2018년에 해당하는 데이터\n",
    "# single string을 사용해서 인덱싱하므로 loc 를 사용\n",
    "DF_year = DF.loc['2018']\n",
    "print(DF_year.head())"
   ]
  },
  {
   "cell_type": "code",
   "execution_count": 63,
   "id": "e53a3537",
   "metadata": {},
   "outputs": [
    {
     "name": "stdout",
     "output_type": "stream",
     "text": [
      "            Close  Start   High    Low  Volume\n",
      "newDate                                       \n",
      "2018-06-29  10700  10550  10900   9990  170253\n",
      "2018-06-28  10400  10900  10950  10150  155769\n",
      "2018-06-27  10900  10800  11050  10500  133548\n",
      "2018-06-26  10800  10900  11000  10700   63039\n",
      "2018-06-25  11150  11400  11450  11000   55519\n"
     ]
    }
   ],
   "source": [
    "# 2018년 6월에 해당하는 데이터\n",
    "DF_mon = DF.loc['2018-06']\n",
    "print(DF_mon.head())"
   ]
  },
  {
   "cell_type": "code",
   "execution_count": 64,
   "id": "8b2ab2e7",
   "metadata": {},
   "outputs": [
    {
     "name": "stdout",
     "output_type": "stream",
     "text": [
      "            Close  Start   High    Low  Volume\n",
      "newDate                                       \n",
      "2018-06-20  11550  11200  11600  10900  308596\n",
      "2018-06-19  11300  11850  11950  11300  180656\n",
      "2018-06-18  12000  13400  13400  12000  309787\n",
      "2018-06-15  13400  13600  13600  12900  201376\n",
      "2018-06-14  13450  13200  13700  13150  347451\n",
      "            Start   High    Low\n",
      "newDate                        \n",
      "2018-06-20  11200  11600  10900\n",
      "2018-06-19  11850  11950  11300\n",
      "2018-06-18  13400  13400  12000\n",
      "2018-06-15  13600  13600  12900\n",
      "2018-06-14  13200  13700  13150\n"
     ]
    }
   ],
   "source": [
    "# 지정한 기간 사이의 데이터만 가져오기\n",
    "DF_bet = DF.loc['2018-06-05' : '2018-06-20']\n",
    "print(DF_bet.head())\n",
    "\n",
    "# 가져올 컬럼도 지정\n",
    "DF_bet = DF.loc['2018-06-05' : '2018-06-20', 'Start':'Low']\n",
    "print(DF_bet.head())\n"
   ]
  },
  {
   "cell_type": "code",
   "execution_count": 75,
   "id": "ecff56a5",
   "metadata": {},
   "outputs": [
    {
     "name": "stdout",
     "output_type": "stream",
     "text": [
      "            Sales\n",
      "2020-01-01    1.2\n",
      "2020-02-01    2.4\n",
      "2020-03-01    3.6\n",
      "2020-04-01    3.6\n",
      "2020-05-01    3.6\n",
      "2020-06-01    7.2\n",
      "            Sales\n",
      "2020-01-01    1.2\n",
      "2020-02-01    2.4\n",
      "2020-03-01    3.6\n",
      "2020-04-01    7.2\n",
      "2020-05-01    7.2\n",
      "2020-06-01    7.2\n",
      "            Sales\n",
      "2020-01-01    1.2\n",
      "2020-02-01    2.4\n",
      "2020-03-01    3.6\n",
      "2020-04-01    4.8\n",
      "2020-05-01    6.0\n",
      "2020-06-01    7.2\n",
      "               Sales\n",
      "2020-01-01  1.200000\n",
      "2020-02-01  2.400000\n",
      "2020-03-01  3.600000\n",
      "2020-04-01  4.856913\n",
      "2020-05-01  6.030826\n",
      "2020-06-01  7.200000\n"
     ]
    }
   ],
   "source": [
    "# 날자 데이터 생성\n",
    "date_index = pd.date_range('2020-01-01', periods = 6, freq = 'MS')\n",
    "DF = pd.DataFrame(index = date_index)\n",
    "DF['Sales'] = [1.2, 2.4, 3.6, np.nan, np.nan, 7.2]\n",
    "\n",
    "# 앞의 데이터로 채워넣기\n",
    "print(DF.ffill())\n",
    "# 뒤의 데이터로 채워넣기\n",
    "print(DF.bfill())\n",
    "\n",
    "# 선형으로 보간해서 출력\n",
    "print(DF.interpolate())\n",
    "# 비선형으로 보간\n",
    "print(DF.interpolate(method = 'quadratic'))\n"
   ]
  },
  {
   "cell_type": "code",
   "execution_count": 80,
   "id": "1229632d",
   "metadata": {},
   "outputs": [
    {
     "name": "stdout",
     "output_type": "stream",
     "text": [
      "            Sales  stock_price\n",
      "2020-01-01    NaN          NaN\n",
      "2020-02-01    1.8          3.0\n",
      "2020-03-01    3.0          5.0\n",
      "2020-04-01    NaN          7.0\n",
      "2020-05-01    NaN          9.0\n",
      "2020-06-01    NaN         11.0\n",
      "               Sales  stock_price\n",
      "2020-01-01  1.200000     2.000000\n",
      "2020-02-01  2.100000     3.500000\n",
      "2020-03-01  3.138462     5.230769\n",
      "2020-04-01  3.138462     7.100000\n",
      "2020-05-01  3.138462     9.041322\n",
      "2020-06-01  6.993750    11.016484\n"
     ]
    }
   ],
   "source": [
    "DF['stock_price'] = [2, 4, 6, 8, 10, 12]\n",
    "\n",
    "# 단순 이동 평균\n",
    "# 이전 값이 없는 첫번째 데이터는 NaN을 가짐\n",
    "# window 를 통해 가져올 데이터의 수 지정 가능\n",
    "# 2개 데이터를 가져와서 평균을 가짐\n",
    "print(DF.rolling(window = 2).mean())\n",
    "\n",
    "# 지수 이동 평균\n",
    "# span 을 통해 alpha 값 지정 가능\n",
    "print(DF.ewm(span = 2).mean())"
   ]
  }
 ],
 "metadata": {
  "kernelspec": {
   "display_name": "Python 3 (ipykernel)",
   "language": "python",
   "name": "python3"
  },
  "language_info": {
   "codemirror_mode": {
    "name": "ipython",
    "version": 3
   },
   "file_extension": ".py",
   "mimetype": "text/x-python",
   "name": "python",
   "nbconvert_exporter": "python",
   "pygments_lexer": "ipython3",
   "version": "3.10.9"
  }
 },
 "nbformat": 4,
 "nbformat_minor": 5
}
